{
 "cells": [
  {
   "cell_type": "code",
   "execution_count": null,
   "metadata": {},
   "outputs": [],
   "source": [
    "import pandas as pd\n",
    "import matplotlib.pyplot as plt\n",
    "import seaborn as sns\n",
    "import warnings\n",
    "\n",
    "# Suppress all pandas warnings\n",
    "warnings.simplefilter(action='ignore', category=pd.errors.SettingWithCopyWarning)"
   ]
  },
  {
   "cell_type": "markdown",
   "metadata": {},
   "source": [
    "## Importing DataSets"
   ]
  },
  {
   "cell_type": "code",
   "execution_count": null,
   "metadata": {},
   "outputs": [],
   "source": [
    "ufc_masterdf = pd.read_csv('../datasets/raw/ufc-master.csv')\n",
    "ufc_masterdf.head()"
   ]
  },
  {
   "cell_type": "markdown",
   "metadata": {},
   "source": [
    "## Data Preperation and Cleaning\n",
    "\n"
   ]
  },
  {
   "cell_type": "code",
   "execution_count": null,
   "metadata": {},
   "outputs": [],
   "source": [
    "ufc_masterdf.info"
   ]
  },
  {
   "cell_type": "code",
   "execution_count": null,
   "metadata": {},
   "outputs": [],
   "source": [
    "# Checking for missing values in the dataset\n",
    "missing_values = ufc_masterdf.isnull().sum().sort_values(ascending=False)\n",
    "\n",
    "# Display columns with missing values\n",
    "missing_values[missing_values > 0]\n"
   ]
  },
  {
   "cell_type": "code",
   "execution_count": null,
   "metadata": {},
   "outputs": [],
   "source": [
    "# Dropping columns with a high percentage of missing values that are not essential for the analysis\n",
    "columns_to_drop = ['BWFeatherweightRank', 'RWFeatherweightRank', 'BPFPRank', 'BWFlyweightRank', 'RWFlyweightRank',\n",
    "                   'BWStrawweightRank', 'BWBantamweightRank', 'BBantamweightRank', 'BWelterweightRank',\n",
    "                   'BLightHeavyweightRank', 'BLightweightRank', 'BFeatherweightRank', 'BFlyweightRank',\n",
    "                   'BMiddleweightRank', 'RWStrawweightRank', 'BHeavyweightRank', 'RWBantamweightRank', 'RFeatherweightRank',\n",
    "                   'RLightHeavyweightRank', 'RMiddleweightRank', 'RBantamweightRank', 'RHeavyweightRank', 'RFlyweightRank',\n",
    "                   'RLightweightRank', 'RWelterweightRank', 'RPFPRank', 'BMatchWCRank', 'RMatchWCRank', 'FinishDetails']\n",
    "\n",
    "ufc_masterdf = ufc_masterdf.drop(columns=columns_to_drop)\n",
    "\n",
    "# Dropping rows with missing values in essential columns for analysis\n",
    "ufc_cleaned = ufc_masterdf.dropna(subset=['RedOdds', 'BlueOdds', 'TotalFightTimeSecs', 'RedAvgSigStrLanded', 'BlueAvgSigStrLanded',\n",
    "                               'RedAvgTDLanded', 'BlueAvgTDLanded', 'RedAvgSubAtt', 'BlueAvgSubAtt', 'RedAvgSigStrPct',\n",
    "                               'BlueAvgSigStrPct', 'RedAvgTDPct', 'BlueAvgTDPct', 'Winner', 'WeightClass'])\n",
    "\n",
    "\n",
    "# Check if we've sufficiently cleaned the data by looking at missing values again\n",
    "ufc_cleaned.isnull().sum().sum(), ufc_cleaned.shape\n",
    "\n",
    "# Verifying the cleaned data\n",
    "ufc_cleaned.info()"
   ]
  },
  {
   "cell_type": "markdown",
   "metadata": {},
   "source": [
    "## UFC Winning Visualizations"
   ]
  },
  {
   "cell_type": "code",
   "execution_count": null,
   "metadata": {},
   "outputs": [],
   "source": [
    "# Creating calculated fields\n",
    "ufc_cleaned['RedExperience'] = ufc_cleaned['RedAvgSigStrLanded'] + ufc_cleaned['RedAvgTDLanded'] + ufc_cleaned['RedAvgSubAtt']\n",
    "ufc_cleaned['BlueExperience'] = ufc_cleaned['BlueAvgSigStrLanded'] + ufc_cleaned['BlueAvgTDLanded'] + ufc_cleaned['BlueAvgSubAtt']\n",
    "ufc_cleaned['RedTotalAccuracy'] = (ufc_cleaned['RedAvgSigStrPct'] + ufc_cleaned['RedAvgTDPct']) / 2\n",
    "ufc_cleaned['BlueTotalAccuracy'] = (ufc_cleaned['BlueAvgSigStrPct'] + ufc_cleaned['BlueAvgTDPct']) / 2\n"
   ]
  },
  {
   "cell_type": "markdown",
   "metadata": {},
   "source": [
    "### Win Rate by Weight Class"
   ]
  },
  {
   "cell_type": "code",
   "execution_count": null,
   "metadata": {},
   "outputs": [],
   "source": [
    "weight_class_win_rate = ufc_cleaned.groupby('WeightClass')['Winner'].apply(lambda x: (x == 'Red').mean())\n",
    "# Plotting win rate by weight class\n",
    "plt.figure(figsize=(12, 6))\n",
    "weight_class_win_rate.plot(kind='bar', color='skyblue')\n",
    "plt.title('Win Rate by Weight Class')\n",
    "plt.xlabel('Weight Class')\n",
    "plt.ylabel('Win Rate')\n",
    "plt.xticks(rotation=45, ha='right')\n",
    "plt.tight_layout()\n",
    "plt.show()"
   ]
  },
  {
   "cell_type": "markdown",
   "metadata": {},
   "source": [
    "This bar chart displays the win rate for each weight class, indicating which categories have higher or lower winning percentages. Certain weight classes might showcase different dynamics, like endurance and strength, which could impact win likelihood."
   ]
  },
  {
   "cell_type": "markdown",
   "metadata": {},
   "source": [
    "### Effect of Strike Accuracy on Winning"
   ]
  },
  {
   "cell_type": "code",
   "execution_count": null,
   "metadata": {},
   "outputs": [],
   "source": [
    "plt.figure(figsize=(10, 6))\n",
    "sns.histplot(ufc_cleaned, x='RedAvgSigStrPct', kde=True, color='orange', label='Strike Accuracy of Winners')\n",
    "plt.title('Strike Accuracy and Win Rate')\n",
    "plt.xlabel('Strike Accuracy (%)')\n",
    "plt.ylabel('Frequency')\n",
    "plt.legend()\n",
    "plt.tight_layout()\n",
    "plt.show()\n"
   ]
  },
  {
   "cell_type": "markdown",
   "metadata": {},
   "source": [
    "The histogram shows the distribution of winners based on their strike accuracy, suggesting that higher accuracy generally correlates with winning outcomes. This finding emphasizes the importance of landing precise strikes in UFC success."
   ]
  },
  {
   "cell_type": "markdown",
   "metadata": {},
   "source": [
    "### Takedown Accuracy and Win Rate"
   ]
  },
  {
   "cell_type": "code",
   "execution_count": null,
   "metadata": {},
   "outputs": [],
   "source": [
    "plt.figure(figsize=(10, 6))\n",
    "sns.histplot(ufc_cleaned, x='RedAvgTDPct', kde=True, color='purple', label='Takedown Accuracy of Winners')\n",
    "plt.title('Takedown Accuracy and Win Rate')\n",
    "plt.xlabel('Takedown Accuracy (%)')\n",
    "plt.ylabel('Frequency')\n",
    "plt.legend()\n",
    "plt.tight_layout()\n",
    "plt.show()"
   ]
  },
  {
   "cell_type": "markdown",
   "metadata": {},
   "source": [
    "This histogram reveals the winning distribution according to takedown accuracy, highlighting that fighters with greater takedown accuracy tend to win more often. This suggests that controlling opponents on the ground can provide a competitive edge."
   ]
  },
  {
   "cell_type": "markdown",
   "metadata": {},
   "source": [
    "### Fighting Style Distribution Among Winners"
   ]
  },
  {
   "cell_type": "code",
   "execution_count": null,
   "metadata": {},
   "outputs": [],
   "source": [
    "plt.figure(figsize=(12, 6))\n",
    "sns.countplot(data=ufc_cleaned, x='RedStance', color='cyan', order=ufc_cleaned['RedStance'].value_counts().index)\n",
    "plt.title('Fighting Style Distribution Among Winners')\n",
    "plt.xlabel('Fighting Style')\n",
    "plt.ylabel('Count')\n",
    "plt.xticks(rotation=45, ha='right')\n",
    "plt.tight_layout()\n",
    "plt.show()"
   ]
  },
  {
   "cell_type": "markdown",
   "metadata": {},
   "source": [
    "This bar chart shows the distribution of fighting styles (stances) among winners, with a focus on traditional stances like orthodox and southpaw. Popularity of certain stances among winners may suggest strategic advantages in fight tactics or defense mechanisms."
   ]
  },
  {
   "cell_type": "markdown",
   "metadata": {},
   "source": [
    "### Age and Win Rate"
   ]
  },
  {
   "cell_type": "code",
   "execution_count": null,
   "metadata": {},
   "outputs": [],
   "source": [
    "plt.figure(figsize=(12, 6))\n",
    "sns.histplot(ufc_cleaned['RedAge'], kde=True, color='green', label='Age of Winners')\n",
    "plt.title('Age and Win Rate')\n",
    "plt.xlabel('Age')\n",
    "plt.ylabel('Frequency')\n",
    "plt.legend()\n",
    "plt.tight_layout()\n",
    "plt.show()"
   ]
  },
  {
   "cell_type": "markdown",
   "metadata": {},
   "source": [
    "The histogram illustrates the age distribution of winners, indicating whether younger or older fighters tend to win more frequently. Observing any peak in certain age ranges can provide insights into the potential advantage of experience and physical condition at different ages."
   ]
  },
  {
   "cell_type": "markdown",
   "metadata": {},
   "source": [
    "## UFC Fight Data Visualizations"
   ]
  },
  {
   "cell_type": "code",
   "execution_count": null,
   "metadata": {},
   "outputs": [],
   "source": [
    "# Create a new column for \"Favorite\" and \"Underdog\"\n",
    "ufc_cleaned['FavoriteOdds'] = ufc_cleaned[['RedOdds', 'BlueOdds']].min(axis=1)\n",
    "ufc_cleaned['UnderdogOdds'] = ufc_cleaned[['RedOdds', 'BlueOdds']].max(axis=1)\n",
    "\n",
    "# Create a new column for whether the favorite fighter won\n",
    "ufc_cleaned['FavoriteWin'] = ((ufc_cleaned['RedOdds'] < ufc_cleaned['BlueOdds']) & (ufc_cleaned['Winner'] == 'Red')) | \\\n",
    "                             ((ufc_cleaned['BlueOdds'] < ufc_cleaned['RedOdds']) & (ufc_cleaned['Winner'] == 'Blue'))"
   ]
  },
  {
   "cell_type": "code",
   "execution_count": null,
   "metadata": {},
   "outputs": [],
   "source": [
    "#Favorite vs. Underdog Win Probability\n",
    "plt.figure(figsize=(8, 6))\n",
    "ufc_cleaned['FavoriteWin'].value_counts().plot(kind='bar', color=['green', 'red'])\n",
    "plt.title('Favorite vs Underdog Win Probability', fontsize=14)\n",
    "plt.xlabel('Favorite Win (1 = Yes, 0 = No)', fontsize=12)\n",
    "plt.ylabel('Number of Fights', fontsize=12)\n",
    "plt.xticks(rotation=0)\n",
    "plt.show()\n"
   ]
  },
  {
   "cell_type": "code",
   "execution_count": null,
   "metadata": {},
   "outputs": [],
   "source": [
    "# 2. Distribution of Odds for Favorite and Underdog\n",
    "plt.figure(figsize=(8, 6))\n",
    "ufc_cleaned[['FavoriteOdds', 'UnderdogOdds']].plot(kind='hist', alpha=0.5, bins=50, color=['green', 'red'])\n",
    "plt.title('Distribution of Betting Odds (Favorite vs Underdog)', fontsize=14)\n",
    "plt.xlabel('Betting Odds', fontsize=12)\n",
    "plt.ylabel('Frequency', fontsize=12)\n",
    "plt.show()"
   ]
  },
  {
   "cell_type": "code",
   "execution_count": null,
   "metadata": {},
   "outputs": [],
   "source": [
    "# 1. Finish Round Distribution\n",
    "plt.figure(figsize=(8, 6))\n",
    "ufc_cleaned['FinishRound'].value_counts().sort_index().plot(kind='bar', color='skyblue')\n",
    "plt.title('Distribution of Finish Rounds', fontsize=14)\n",
    "plt.xlabel('Finish Round', fontsize=12)\n",
    "plt.ylabel('Number of Fights', fontsize=12)\n",
    "plt.xticks(rotation=0)\n",
    "plt.show()"
   ]
  },
  {
   "cell_type": "code",
   "execution_count": null,
   "metadata": {},
   "outputs": [],
   "source": [
    "plt.figure(figsize=(8, 6))\n",
    "ufc_cleaned.groupby('Finish')['TotalFightTimeSecs'].mean().sort_values().plot(kind='bar', color='orange')\n",
    "plt.title('Average Fight Time by Finish Method', fontsize=14)\n",
    "plt.xlabel('Finish Method', fontsize=12)\n",
    "plt.ylabel('Average Fight Time (seconds)', fontsize=12)\n",
    "plt.xticks(rotation=45)\n",
    "plt.show()\n"
   ]
  },
  {
   "cell_type": "code",
   "execution_count": null,
   "metadata": {},
   "outputs": [],
   "source": [
    "# 1. Top Fighters by Number of Fights (Red + Blue combined)\n",
    "top_fighters = pd.concat([ufc_cleaned['RedFighter'], ufc_cleaned['BlueFighter']])\n",
    "top_fighter_counts = top_fighters.value_counts().nlargest(10)\n",
    "\n",
    "plt.figure(figsize=(10, 6))\n",
    "top_fighter_counts.plot(kind='barh', color='teal')\n",
    "plt.title('Top 10 Fighters by Number of Fights', fontsize=14)\n",
    "plt.xlabel('Number of Fights', fontsize=12)\n",
    "plt.ylabel('Fighter', fontsize=12)\n",
    "plt.show()"
   ]
  },
  {
   "cell_type": "code",
   "execution_count": null,
   "metadata": {},
   "outputs": [],
   "source": [
    "# 3. Average Odds by Top Fighters (Red + Blue combined)\n",
    "avg_odds_fighter = pd.concat([\n",
    "    ufc_cleaned[['RedFighter', 'RedOdds']].rename(columns={'RedFighter': 'Fighter', 'RedOdds': 'Odds'}),\n",
    "    ufc_cleaned[['BlueFighter', 'BlueOdds']].rename(columns={'BlueFighter': 'Fighter', 'BlueOdds': 'Odds'})\n",
    "])\n",
    "avg_odds_fighter = avg_odds_fighter.groupby('Fighter')['Odds'].mean().nlargest(10)\n",
    "\n",
    "plt.figure(figsize=(10, 6))\n",
    "avg_odds_fighter.plot(kind='barh', color='purple')\n",
    "plt.title('Top 10 UnderDogs by Average Betting Odds', fontsize=14)\n",
    "plt.xlabel('Average Odds', fontsize=12)\n",
    "plt.ylabel('Fighter', fontsize=12)\n",
    "plt.show()"
   ]
  },
  {
   "cell_type": "code",
   "execution_count": null,
   "metadata": {},
   "outputs": [],
   "source": [
    "# 3. Average Odds by Top Fighters (Red + Blue combined)\n",
    "avg_odds_fighter_favorite = pd.concat([\n",
    "    ufc_cleaned[['RedFighter', 'RedOdds']].rename(columns={'RedFighter': 'Fighter', 'RedOdds': 'Odds'}),\n",
    "    ufc_cleaned[['BlueFighter', 'BlueOdds']].rename(columns={'BlueFighter': 'Fighter', 'BlueOdds': 'Odds'})\n",
    "])\n",
    "avg_odds_fighterfav = avg_odds_fighter_favorite.groupby('Fighter')['Odds'].mean().nsmallest(10)\n",
    "\n",
    "plt.figure(figsize=(10, 6))\n",
    "avg_odds_fighterfav.plot(kind='barh', color='purple')\n",
    "plt.title('Top 10 Favorites by Average Betting Odds', fontsize=14)\n",
    "plt.xlabel('Average Odds', fontsize=12)\n",
    "plt.ylabel('Fighter', fontsize=12)\n",
    "plt.show()"
   ]
  },
  {
   "cell_type": "code",
   "execution_count": null,
   "metadata": {},
   "outputs": [],
   "source": [
    "total_fights = pd.concat([ufc_cleaned['RedFighter'], ufc_cleaned['BlueFighter']]).value_counts()\n",
    "\n",
    "# Counting wins for each fighter (whether they won as Red or Blue)\n",
    "fighter_wins = pd.concat([\n",
    "    ufc_cleaned[ufc_cleaned['Winner'] == 'Red']['RedFighter'],\n",
    "    ufc_cleaned[ufc_cleaned['Winner'] == 'Blue']['BlueFighter']\n",
    "]).value_counts()\n",
    "\n",
    "# Calculating win percentage for each fighter\n",
    "win_percentage = (fighter_wins / total_fights) * 100\n",
    "\n",
    "# Selecting fighters with at least a certain number of fights (e.g., 10) to avoid small sample sizes\n",
    "min_fights = 10\n",
    "top_fighters_win_percentage = win_percentage[total_fights >= min_fights].nlargest(10)\n",
    "\n",
    "# Plotting top fighters by win percentage\n",
    "plt.figure(figsize=(10, 6))\n",
    "top_fighters_win_percentage.plot(kind='barh', color='goldenrod')\n",
    "plt.title('Top 10 Fighters by Win Percentage (Minimum 10 Fights)', fontsize=14)\n",
    "plt.xlabel('Win Percentage (%)', fontsize=12)\n",
    "plt.ylabel('Fighter', fontsize=12)\n",
    "plt.show()\n"
   ]
  }
 ],
 "metadata": {
  "kernelspec": {
   "display_name": "Python 3",
   "language": "python",
   "name": "python3"
  },
  "language_info": {
   "codemirror_mode": {
    "name": "ipython",
    "version": 3
   },
   "file_extension": ".py",
   "mimetype": "text/x-python",
   "name": "python",
   "nbconvert_exporter": "python",
   "pygments_lexer": "ipython3",
   "version": "3.9.6"
  }
 },
 "nbformat": 4,
 "nbformat_minor": 2
}
